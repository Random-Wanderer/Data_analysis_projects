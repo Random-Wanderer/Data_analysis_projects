{
 "cells": [
  {
   "cell_type": "code",
   "execution_count": 36,
   "id": "6190b851",
   "metadata": {},
   "outputs": [],
   "source": [
    "#Imports\n",
    "import pandas as pd\n",
    "import seaborn as sns\n",
    "import matplotlib.pyplot as plt"
   ]
  },
  {
   "cell_type": "markdown",
   "id": "fe1b1c7b",
   "metadata": {},
   "source": [
    "# Data"
   ]
  },
  {
   "cell_type": "code",
   "execution_count": 2,
   "id": "30700834",
   "metadata": {},
   "outputs": [
    {
     "data": {
      "text/html": [
       "<div>\n",
       "<style scoped>\n",
       "    .dataframe tbody tr th:only-of-type {\n",
       "        vertical-align: middle;\n",
       "    }\n",
       "\n",
       "    .dataframe tbody tr th {\n",
       "        vertical-align: top;\n",
       "    }\n",
       "\n",
       "    .dataframe thead th {\n",
       "        text-align: right;\n",
       "    }\n",
       "</style>\n",
       "<table border=\"1\" class=\"dataframe\">\n",
       "  <thead>\n",
       "    <tr style=\"text-align: right;\">\n",
       "      <th></th>\n",
       "      <th>business</th>\n",
       "      <th>year_founded</th>\n",
       "      <th>category_code</th>\n",
       "      <th>country_code</th>\n",
       "    </tr>\n",
       "  </thead>\n",
       "  <tbody>\n",
       "    <tr>\n",
       "      <th>0</th>\n",
       "      <td>Hamoud Boualem</td>\n",
       "      <td>1878</td>\n",
       "      <td>CAT11</td>\n",
       "      <td>DZA</td>\n",
       "    </tr>\n",
       "    <tr>\n",
       "      <th>1</th>\n",
       "      <td>Communauté Électrique du Bénin</td>\n",
       "      <td>1968</td>\n",
       "      <td>CAT10</td>\n",
       "      <td>BEN</td>\n",
       "    </tr>\n",
       "    <tr>\n",
       "      <th>2</th>\n",
       "      <td>Botswana Meat Commission</td>\n",
       "      <td>1965</td>\n",
       "      <td>CAT1</td>\n",
       "      <td>BWA</td>\n",
       "    </tr>\n",
       "    <tr>\n",
       "      <th>3</th>\n",
       "      <td>Air Burkina</td>\n",
       "      <td>1967</td>\n",
       "      <td>CAT2</td>\n",
       "      <td>BFA</td>\n",
       "    </tr>\n",
       "    <tr>\n",
       "      <th>4</th>\n",
       "      <td>Brarudi</td>\n",
       "      <td>1955</td>\n",
       "      <td>CAT9</td>\n",
       "      <td>BDI</td>\n",
       "    </tr>\n",
       "  </tbody>\n",
       "</table>\n",
       "</div>"
      ],
      "text/plain": [
       "                         business  year_founded category_code country_code\n",
       "0                  Hamoud Boualem          1878         CAT11          DZA\n",
       "1  Communauté Électrique du Bénin          1968         CAT10          BEN\n",
       "2        Botswana Meat Commission          1965          CAT1          BWA\n",
       "3                     Air Burkina          1967          CAT2          BFA\n",
       "4                         Brarudi          1955          CAT9          BDI"
      ]
     },
     "execution_count": 2,
     "metadata": {},
     "output_type": "execute_result"
    }
   ],
   "source": [
    "# Companies\n",
    "business = pd.read_csv('datasets/businesses.csv')\n",
    "business.head(5)"
   ]
  },
  {
   "cell_type": "code",
   "execution_count": 3,
   "id": "963f6058",
   "metadata": {},
   "outputs": [
    {
     "data": {
      "text/html": [
       "<div>\n",
       "<style scoped>\n",
       "    .dataframe tbody tr th:only-of-type {\n",
       "        vertical-align: middle;\n",
       "    }\n",
       "\n",
       "    .dataframe tbody tr th {\n",
       "        vertical-align: top;\n",
       "    }\n",
       "\n",
       "    .dataframe thead th {\n",
       "        text-align: right;\n",
       "    }\n",
       "</style>\n",
       "<table border=\"1\" class=\"dataframe\">\n",
       "  <thead>\n",
       "    <tr style=\"text-align: right;\">\n",
       "      <th></th>\n",
       "      <th>country_code</th>\n",
       "      <th>country</th>\n",
       "      <th>continent</th>\n",
       "    </tr>\n",
       "  </thead>\n",
       "  <tbody>\n",
       "    <tr>\n",
       "      <th>0</th>\n",
       "      <td>AFG</td>\n",
       "      <td>Afghanistan</td>\n",
       "      <td>Asia</td>\n",
       "    </tr>\n",
       "    <tr>\n",
       "      <th>1</th>\n",
       "      <td>AGO</td>\n",
       "      <td>Angola</td>\n",
       "      <td>Africa</td>\n",
       "    </tr>\n",
       "    <tr>\n",
       "      <th>2</th>\n",
       "      <td>ALB</td>\n",
       "      <td>Albania</td>\n",
       "      <td>Europe</td>\n",
       "    </tr>\n",
       "    <tr>\n",
       "      <th>3</th>\n",
       "      <td>AND</td>\n",
       "      <td>Andorra</td>\n",
       "      <td>Europe</td>\n",
       "    </tr>\n",
       "    <tr>\n",
       "      <th>4</th>\n",
       "      <td>ARE</td>\n",
       "      <td>United Arab Emirates</td>\n",
       "      <td>Asia</td>\n",
       "    </tr>\n",
       "  </tbody>\n",
       "</table>\n",
       "</div>"
      ],
      "text/plain": [
       "  country_code               country continent\n",
       "0          AFG           Afghanistan      Asia\n",
       "1          AGO                Angola    Africa\n",
       "2          ALB               Albania    Europe\n",
       "3          AND               Andorra    Europe\n",
       "4          ARE  United Arab Emirates      Asia"
      ]
     },
     "execution_count": 3,
     "metadata": {},
     "output_type": "execute_result"
    }
   ],
   "source": [
    "# Countrys\n",
    "countries = pd.read_csv('datasets/countries.csv')\n",
    "countries.head(5)"
   ]
  },
  {
   "cell_type": "code",
   "execution_count": 4,
   "id": "a406cb2f",
   "metadata": {},
   "outputs": [
    {
     "data": {
      "text/html": [
       "<div>\n",
       "<style scoped>\n",
       "    .dataframe tbody tr th:only-of-type {\n",
       "        vertical-align: middle;\n",
       "    }\n",
       "\n",
       "    .dataframe tbody tr th {\n",
       "        vertical-align: top;\n",
       "    }\n",
       "\n",
       "    .dataframe thead th {\n",
       "        text-align: right;\n",
       "    }\n",
       "</style>\n",
       "<table border=\"1\" class=\"dataframe\">\n",
       "  <thead>\n",
       "    <tr style=\"text-align: right;\">\n",
       "      <th></th>\n",
       "      <th>category_code</th>\n",
       "      <th>category</th>\n",
       "    </tr>\n",
       "  </thead>\n",
       "  <tbody>\n",
       "    <tr>\n",
       "      <th>0</th>\n",
       "      <td>CAT1</td>\n",
       "      <td>Agriculture</td>\n",
       "    </tr>\n",
       "    <tr>\n",
       "      <th>1</th>\n",
       "      <td>CAT2</td>\n",
       "      <td>Aviation &amp; Transport</td>\n",
       "    </tr>\n",
       "    <tr>\n",
       "      <th>2</th>\n",
       "      <td>CAT3</td>\n",
       "      <td>Banking &amp; Finance</td>\n",
       "    </tr>\n",
       "    <tr>\n",
       "      <th>3</th>\n",
       "      <td>CAT4</td>\n",
       "      <td>Cafés, Restaurants &amp; Bars</td>\n",
       "    </tr>\n",
       "    <tr>\n",
       "      <th>4</th>\n",
       "      <td>CAT5</td>\n",
       "      <td>Conglomerate</td>\n",
       "    </tr>\n",
       "  </tbody>\n",
       "</table>\n",
       "</div>"
      ],
      "text/plain": [
       "  category_code                   category\n",
       "0          CAT1                Agriculture\n",
       "1          CAT2       Aviation & Transport\n",
       "2          CAT3          Banking & Finance\n",
       "3          CAT4  Cafés, Restaurants & Bars\n",
       "4          CAT5               Conglomerate"
      ]
     },
     "execution_count": 4,
     "metadata": {},
     "output_type": "execute_result"
    }
   ],
   "source": [
    "# Business category\n",
    "categories = pd.read_csv('datasets/categories.csv')\n",
    "categories.head(5)"
   ]
  },
  {
   "cell_type": "code",
   "execution_count": 5,
   "id": "1e50cc88",
   "metadata": {},
   "outputs": [
    {
     "name": "stdout",
     "output_type": "stream",
     "text": [
      "<class 'pandas.core.frame.DataFrame'>\n",
      "RangeIndex: 163 entries, 0 to 162\n",
      "Data columns (total 4 columns):\n",
      " #   Column         Non-Null Count  Dtype \n",
      "---  ------         --------------  ----- \n",
      " 0   business       163 non-null    object\n",
      " 1   year_founded   163 non-null    int64 \n",
      " 2   category_code  163 non-null    object\n",
      " 3   country_code   163 non-null    object\n",
      "dtypes: int64(1), object(3)\n",
      "memory usage: 5.2+ KB\n",
      "<class 'pandas.core.frame.DataFrame'>\n",
      "RangeIndex: 195 entries, 0 to 194\n",
      "Data columns (total 3 columns):\n",
      " #   Column        Non-Null Count  Dtype \n",
      "---  ------        --------------  ----- \n",
      " 0   country_code  195 non-null    object\n",
      " 1   country       195 non-null    object\n",
      " 2   continent     195 non-null    object\n",
      "dtypes: object(3)\n",
      "memory usage: 4.7+ KB\n",
      "<class 'pandas.core.frame.DataFrame'>\n",
      "RangeIndex: 19 entries, 0 to 18\n",
      "Data columns (total 2 columns):\n",
      " #   Column         Non-Null Count  Dtype \n",
      "---  ------         --------------  ----- \n",
      " 0   category_code  19 non-null     object\n",
      " 1   category       19 non-null     object\n",
      "dtypes: object(2)\n",
      "memory usage: 432.0+ bytes\n"
     ]
    },
    {
     "data": {
      "text/plain": [
       "(None, None, None)"
      ]
     },
     "execution_count": 5,
     "metadata": {},
     "output_type": "execute_result"
    }
   ],
   "source": [
    "# Info\n",
    "business.info(), countries.info(), categories.info()"
   ]
  },
  {
   "cell_type": "code",
   "execution_count": 6,
   "id": "3b80e8fa",
   "metadata": {},
   "outputs": [
    {
     "data": {
      "text/plain": [
       "country_code  country            continent    \n",
       "AFG           Afghanistan        Asia             1\n",
       "ROU           Romania            Europe           1\n",
       "NAM           Namibia            Africa           1\n",
       "NER           Niger              Africa           1\n",
       "NGA           Nigeria            Africa           1\n",
       "                                                 ..\n",
       "GNQ           Equatorial Guinea  Africa           1\n",
       "GRC           Greece             Europe           1\n",
       "GRD           Grenada            North America    1\n",
       "GTM           Guatemala          North America    1\n",
       "ZWE           Zimbabwe           Africa           1\n",
       "Length: 195, dtype: int64"
      ]
     },
     "execution_count": 6,
     "metadata": {},
     "output_type": "execute_result"
    }
   ],
   "source": [
    "# Value counts\n",
    "vc = countries.value_counts()\n",
    "vc"
   ]
  },
  {
   "cell_type": "code",
   "execution_count": 7,
   "id": "220cfbf1",
   "metadata": {},
   "outputs": [
    {
     "data": {
      "text/plain": [
       "0"
      ]
     },
     "execution_count": 7,
     "metadata": {},
     "output_type": "execute_result"
    }
   ],
   "source": [
    "# How many countries have more then 1\n",
    "x = vc > 1\n",
    "x.sum()"
   ]
  },
  {
   "cell_type": "code",
   "execution_count": 8,
   "id": "dcb47447",
   "metadata": {},
   "outputs": [
    {
     "data": {
      "text/plain": [
       "business                                        year_founded  category_code  country_code\n",
       "1st National Bank of St Lucia                   1938          CAT3           LCA             1\n",
       "Piraeus Bank                                    1606          CAT3           GRC             1\n",
       "Munke Mølle                                     1135          CAT12          DNK             1\n",
       "Myanmar National Airlines                       1948          CAT2           MMR             1\n",
       "NamPost                                         1814          CAT16          NAM             1\n",
       "                                                                                            ..\n",
       "Development Bank of the Central African States  1975          CAT3           COG             1\n",
       "Drohobych salt plant                            1250          CAT12          UKR             1\n",
       "Egyptian National Railways                      1854          CAT2           EGY             1\n",
       "Electricite du Laos                             1959          CAT10          LAO             1\n",
       "Íslandspóstur                                   1776          CAT16          ISL             1\n",
       "Length: 163, dtype: int64"
      ]
     },
     "execution_count": 8,
     "metadata": {},
     "output_type": "execute_result"
    }
   ],
   "source": [
    "# Value counts\n",
    "business.value_counts()"
   ]
  },
  {
   "cell_type": "code",
   "execution_count": 9,
   "id": "94566526",
   "metadata": {},
   "outputs": [
    {
     "data": {
      "text/plain": [
       "category_code  category                         \n",
       "CAT1           Agriculture                          1\n",
       "CAT19          Tourism & Hotels                     1\n",
       "CAT8           Defense                              1\n",
       "CAT7           Consumer Goods                       1\n",
       "CAT6           Construction                         1\n",
       "CAT5           Conglomerate                         1\n",
       "CAT4           Cafés, Restaurants & Bars            1\n",
       "CAT3           Banking & Finance                    1\n",
       "CAT2           Aviation & Transport                 1\n",
       "CAT18          Telecommunications                   1\n",
       "CAT10          Energy                               1\n",
       "CAT17          Retail                               1\n",
       "CAT16          Postal Service                       1\n",
       "CAT15          Mining                               1\n",
       "CAT14          Medical                              1\n",
       "CAT13          Media                                1\n",
       "CAT12          Manufacturing & Production           1\n",
       "CAT11          Food & Beverages                     1\n",
       "CAT9           Distillers, Vintners, & Breweries    1\n",
       "dtype: int64"
      ]
     },
     "execution_count": 9,
     "metadata": {},
     "output_type": "execute_result"
    }
   ],
   "source": [
    "# Category value counts\n",
    "categories.value_counts()"
   ]
  },
  {
   "cell_type": "code",
   "execution_count": 15,
   "id": "f27ac3be",
   "metadata": {},
   "outputs": [
    {
     "data": {
      "text/plain": [
       "CAT3     37\n",
       "CAT9     22\n",
       "CAT2     19\n",
       "CAT16    16\n",
       "CAT12    15\n",
       "CAT13     7\n",
       "CAT4      6\n",
       "CAT11     6\n",
       "CAT1      6\n",
       "CAT10     4\n",
       "CAT17     4\n",
       "CAT19     4\n",
       "CAT15     3\n",
       "CAT8      3\n",
       "CAT5      3\n",
       "CAT7      3\n",
       "CAT6      2\n",
       "CAT18     2\n",
       "CAT14     1\n",
       "Name: category_code, dtype: int64"
      ]
     },
     "execution_count": 15,
     "metadata": {},
     "output_type": "execute_result"
    }
   ],
   "source": [
    "# Business value counts\n",
    "business['category_code'].value_counts()"
   ]
  },
  {
   "cell_type": "code",
   "execution_count": 29,
   "id": "1a0fd49a",
   "metadata": {},
   "outputs": [
    {
     "data": {
      "text/plain": [
       "(0, 0, 0)"
      ]
     },
     "execution_count": 29,
     "metadata": {},
     "output_type": "execute_result"
    }
   ],
   "source": [
    "# Are duplicates\n",
    "business.duplicated().sum(), countries.duplicated().sum(), categories.duplicated().sum()"
   ]
  },
  {
   "cell_type": "code",
   "execution_count": null,
   "id": "2544865b",
   "metadata": {},
   "outputs": [],
   "source": []
  },
  {
   "cell_type": "code",
   "execution_count": 14,
   "id": "0165a63b",
   "metadata": {},
   "outputs": [
    {
     "data": {
      "text/html": [
       "<div>\n",
       "<style scoped>\n",
       "    .dataframe tbody tr th:only-of-type {\n",
       "        vertical-align: middle;\n",
       "    }\n",
       "\n",
       "    .dataframe tbody tr th {\n",
       "        vertical-align: top;\n",
       "    }\n",
       "\n",
       "    .dataframe thead th {\n",
       "        text-align: right;\n",
       "    }\n",
       "</style>\n",
       "<table border=\"1\" class=\"dataframe\">\n",
       "  <thead>\n",
       "    <tr style=\"text-align: right;\">\n",
       "      <th></th>\n",
       "      <th>business</th>\n",
       "      <th>year_founded</th>\n",
       "      <th>category_code</th>\n",
       "      <th>country_code</th>\n",
       "      <th>category</th>\n",
       "      <th>country</th>\n",
       "      <th>continent</th>\n",
       "    </tr>\n",
       "  </thead>\n",
       "  <tbody>\n",
       "    <tr>\n",
       "      <th>0</th>\n",
       "      <td>Hamoud Boualem</td>\n",
       "      <td>1878</td>\n",
       "      <td>CAT11</td>\n",
       "      <td>DZA</td>\n",
       "      <td>Food &amp; Beverages</td>\n",
       "      <td>Algeria</td>\n",
       "      <td>Africa</td>\n",
       "    </tr>\n",
       "    <tr>\n",
       "      <th>1</th>\n",
       "      <td>M. M. Ispahani Limited</td>\n",
       "      <td>1820</td>\n",
       "      <td>CAT11</td>\n",
       "      <td>BGD</td>\n",
       "      <td>Food &amp; Beverages</td>\n",
       "      <td>Bangladesh</td>\n",
       "      <td>Asia</td>\n",
       "    </tr>\n",
       "    <tr>\n",
       "      <th>2</th>\n",
       "      <td>George Steuart Group</td>\n",
       "      <td>1835</td>\n",
       "      <td>CAT11</td>\n",
       "      <td>LKA</td>\n",
       "      <td>Food &amp; Beverages</td>\n",
       "      <td>Sri Lanka</td>\n",
       "      <td>Asia</td>\n",
       "    </tr>\n",
       "    <tr>\n",
       "      <th>3</th>\n",
       "      <td>Corporación Multi Inversiones</td>\n",
       "      <td>1920</td>\n",
       "      <td>CAT11</td>\n",
       "      <td>GTM</td>\n",
       "      <td>Food &amp; Beverages</td>\n",
       "      <td>Guatemala</td>\n",
       "      <td>North America</td>\n",
       "    </tr>\n",
       "    <tr>\n",
       "      <th>4</th>\n",
       "      <td>Banks DIH</td>\n",
       "      <td>1840</td>\n",
       "      <td>CAT11</td>\n",
       "      <td>GUY</td>\n",
       "      <td>Food &amp; Beverages</td>\n",
       "      <td>Guyana</td>\n",
       "      <td>South America</td>\n",
       "    </tr>\n",
       "    <tr>\n",
       "      <th>...</th>\n",
       "      <td>...</td>\n",
       "      <td>...</td>\n",
       "      <td>...</td>\n",
       "      <td>...</td>\n",
       "      <td>...</td>\n",
       "      <td>...</td>\n",
       "      <td>...</td>\n",
       "    </tr>\n",
       "    <tr>\n",
       "      <th>158</th>\n",
       "      <td>Raeapteek</td>\n",
       "      <td>1422</td>\n",
       "      <td>CAT14</td>\n",
       "      <td>EST</td>\n",
       "      <td>Medical</td>\n",
       "      <td>Estonia</td>\n",
       "      <td>Europe</td>\n",
       "    </tr>\n",
       "    <tr>\n",
       "      <th>159</th>\n",
       "      <td>Gostilna Gastuž</td>\n",
       "      <td>1467</td>\n",
       "      <td>CAT19</td>\n",
       "      <td>SVN</td>\n",
       "      <td>Tourism &amp; Hotels</td>\n",
       "      <td>Slovenia</td>\n",
       "      <td>Europe</td>\n",
       "    </tr>\n",
       "    <tr>\n",
       "      <th>160</th>\n",
       "      <td>Gasthof Sternen</td>\n",
       "      <td>1230</td>\n",
       "      <td>CAT19</td>\n",
       "      <td>CHE</td>\n",
       "      <td>Tourism &amp; Hotels</td>\n",
       "      <td>Switzerland</td>\n",
       "      <td>Europe</td>\n",
       "    </tr>\n",
       "    <tr>\n",
       "      <th>161</th>\n",
       "      <td>Çemberlitaş Hamamı</td>\n",
       "      <td>1584</td>\n",
       "      <td>CAT19</td>\n",
       "      <td>TUR</td>\n",
       "      <td>Tourism &amp; Hotels</td>\n",
       "      <td>Turkey</td>\n",
       "      <td>Asia</td>\n",
       "    </tr>\n",
       "    <tr>\n",
       "      <th>162</th>\n",
       "      <td>Rose Hall</td>\n",
       "      <td>1770</td>\n",
       "      <td>CAT19</td>\n",
       "      <td>JAM</td>\n",
       "      <td>Tourism &amp; Hotels</td>\n",
       "      <td>Jamaica</td>\n",
       "      <td>North America</td>\n",
       "    </tr>\n",
       "  </tbody>\n",
       "</table>\n",
       "<p>163 rows × 7 columns</p>\n",
       "</div>"
      ],
      "text/plain": [
       "                          business  year_founded category_code country_code  \\\n",
       "0                   Hamoud Boualem          1878         CAT11          DZA   \n",
       "1           M. M. Ispahani Limited          1820         CAT11          BGD   \n",
       "2             George Steuart Group          1835         CAT11          LKA   \n",
       "3    Corporación Multi Inversiones          1920         CAT11          GTM   \n",
       "4                        Banks DIH          1840         CAT11          GUY   \n",
       "..                             ...           ...           ...          ...   \n",
       "158                      Raeapteek          1422         CAT14          EST   \n",
       "159                Gostilna Gastuž          1467         CAT19          SVN   \n",
       "160                Gasthof Sternen          1230         CAT19          CHE   \n",
       "161             Çemberlitaş Hamamı          1584         CAT19          TUR   \n",
       "162                      Rose Hall          1770         CAT19          JAM   \n",
       "\n",
       "             category      country      continent  \n",
       "0    Food & Beverages      Algeria         Africa  \n",
       "1    Food & Beverages   Bangladesh           Asia  \n",
       "2    Food & Beverages    Sri Lanka           Asia  \n",
       "3    Food & Beverages    Guatemala  North America  \n",
       "4    Food & Beverages       Guyana  South America  \n",
       "..                ...          ...            ...  \n",
       "158           Medical      Estonia         Europe  \n",
       "159  Tourism & Hotels     Slovenia         Europe  \n",
       "160  Tourism & Hotels  Switzerland         Europe  \n",
       "161  Tourism & Hotels       Turkey           Asia  \n",
       "162  Tourism & Hotels      Jamaica  North America  \n",
       "\n",
       "[163 rows x 7 columns]"
      ]
     },
     "execution_count": 14,
     "metadata": {},
     "output_type": "execute_result"
    }
   ],
   "source": [
    "# Merge\n",
    "old_df = business.merge(categories, how= 'inner', on= 'category_code').merge(countries, how= 'inner', on= 'country_code')\n",
    "old_df "
   ]
  },
  {
   "cell_type": "code",
   "execution_count": 31,
   "id": "251fad32",
   "metadata": {},
   "outputs": [
    {
     "data": {
      "text/html": [
       "<div>\n",
       "<style scoped>\n",
       "    .dataframe tbody tr th:only-of-type {\n",
       "        vertical-align: middle;\n",
       "    }\n",
       "\n",
       "    .dataframe tbody tr th {\n",
       "        vertical-align: top;\n",
       "    }\n",
       "\n",
       "    .dataframe thead th {\n",
       "        text-align: right;\n",
       "    }\n",
       "</style>\n",
       "<table border=\"1\" class=\"dataframe\">\n",
       "  <thead>\n",
       "    <tr style=\"text-align: right;\">\n",
       "      <th></th>\n",
       "      <th>business</th>\n",
       "      <th>year_founded</th>\n",
       "      <th>category</th>\n",
       "      <th>country</th>\n",
       "      <th>continent</th>\n",
       "    </tr>\n",
       "  </thead>\n",
       "  <tbody>\n",
       "    <tr>\n",
       "      <th>0</th>\n",
       "      <td>Hamoud Boualem</td>\n",
       "      <td>1878</td>\n",
       "      <td>Food &amp; Beverages</td>\n",
       "      <td>Algeria</td>\n",
       "      <td>Africa</td>\n",
       "    </tr>\n",
       "    <tr>\n",
       "      <th>1</th>\n",
       "      <td>M. M. Ispahani Limited</td>\n",
       "      <td>1820</td>\n",
       "      <td>Food &amp; Beverages</td>\n",
       "      <td>Bangladesh</td>\n",
       "      <td>Asia</td>\n",
       "    </tr>\n",
       "    <tr>\n",
       "      <th>2</th>\n",
       "      <td>George Steuart Group</td>\n",
       "      <td>1835</td>\n",
       "      <td>Food &amp; Beverages</td>\n",
       "      <td>Sri Lanka</td>\n",
       "      <td>Asia</td>\n",
       "    </tr>\n",
       "    <tr>\n",
       "      <th>3</th>\n",
       "      <td>Corporación Multi Inversiones</td>\n",
       "      <td>1920</td>\n",
       "      <td>Food &amp; Beverages</td>\n",
       "      <td>Guatemala</td>\n",
       "      <td>North America</td>\n",
       "    </tr>\n",
       "    <tr>\n",
       "      <th>4</th>\n",
       "      <td>Banks DIH</td>\n",
       "      <td>1840</td>\n",
       "      <td>Food &amp; Beverages</td>\n",
       "      <td>Guyana</td>\n",
       "      <td>South America</td>\n",
       "    </tr>\n",
       "    <tr>\n",
       "      <th>...</th>\n",
       "      <td>...</td>\n",
       "      <td>...</td>\n",
       "      <td>...</td>\n",
       "      <td>...</td>\n",
       "      <td>...</td>\n",
       "    </tr>\n",
       "    <tr>\n",
       "      <th>158</th>\n",
       "      <td>Raeapteek</td>\n",
       "      <td>1422</td>\n",
       "      <td>Medical</td>\n",
       "      <td>Estonia</td>\n",
       "      <td>Europe</td>\n",
       "    </tr>\n",
       "    <tr>\n",
       "      <th>159</th>\n",
       "      <td>Gostilna Gastuž</td>\n",
       "      <td>1467</td>\n",
       "      <td>Tourism &amp; Hotels</td>\n",
       "      <td>Slovenia</td>\n",
       "      <td>Europe</td>\n",
       "    </tr>\n",
       "    <tr>\n",
       "      <th>160</th>\n",
       "      <td>Gasthof Sternen</td>\n",
       "      <td>1230</td>\n",
       "      <td>Tourism &amp; Hotels</td>\n",
       "      <td>Switzerland</td>\n",
       "      <td>Europe</td>\n",
       "    </tr>\n",
       "    <tr>\n",
       "      <th>161</th>\n",
       "      <td>Çemberlitaş Hamamı</td>\n",
       "      <td>1584</td>\n",
       "      <td>Tourism &amp; Hotels</td>\n",
       "      <td>Turkey</td>\n",
       "      <td>Asia</td>\n",
       "    </tr>\n",
       "    <tr>\n",
       "      <th>162</th>\n",
       "      <td>Rose Hall</td>\n",
       "      <td>1770</td>\n",
       "      <td>Tourism &amp; Hotels</td>\n",
       "      <td>Jamaica</td>\n",
       "      <td>North America</td>\n",
       "    </tr>\n",
       "  </tbody>\n",
       "</table>\n",
       "<p>163 rows × 5 columns</p>\n",
       "</div>"
      ],
      "text/plain": [
       "                          business  year_founded          category  \\\n",
       "0                   Hamoud Boualem          1878  Food & Beverages   \n",
       "1           M. M. Ispahani Limited          1820  Food & Beverages   \n",
       "2             George Steuart Group          1835  Food & Beverages   \n",
       "3    Corporación Multi Inversiones          1920  Food & Beverages   \n",
       "4                        Banks DIH          1840  Food & Beverages   \n",
       "..                             ...           ...               ...   \n",
       "158                      Raeapteek          1422           Medical   \n",
       "159                Gostilna Gastuž          1467  Tourism & Hotels   \n",
       "160                Gasthof Sternen          1230  Tourism & Hotels   \n",
       "161             Çemberlitaş Hamamı          1584  Tourism & Hotels   \n",
       "162                      Rose Hall          1770  Tourism & Hotels   \n",
       "\n",
       "         country      continent  \n",
       "0        Algeria         Africa  \n",
       "1     Bangladesh           Asia  \n",
       "2      Sri Lanka           Asia  \n",
       "3      Guatemala  North America  \n",
       "4         Guyana  South America  \n",
       "..           ...            ...  \n",
       "158      Estonia         Europe  \n",
       "159     Slovenia         Europe  \n",
       "160  Switzerland         Europe  \n",
       "161       Turkey           Asia  \n",
       "162      Jamaica  North America  \n",
       "\n",
       "[163 rows x 5 columns]"
      ]
     },
     "execution_count": 31,
     "metadata": {},
     "output_type": "execute_result"
    }
   ],
   "source": [
    "# Drop\n",
    "old_df = old_df.drop(labels=['category_code', 'country_code'], axis= 1)\n",
    "old_df"
   ]
  },
  {
   "cell_type": "code",
   "execution_count": 62,
   "id": "ab93425e",
   "metadata": {},
   "outputs": [
    {
     "data": {
      "text/html": [
       "<div>\n",
       "<style scoped>\n",
       "    .dataframe tbody tr th:only-of-type {\n",
       "        vertical-align: middle;\n",
       "    }\n",
       "\n",
       "    .dataframe tbody tr th {\n",
       "        vertical-align: top;\n",
       "    }\n",
       "\n",
       "    .dataframe thead th {\n",
       "        text-align: right;\n",
       "    }\n",
       "</style>\n",
       "<table border=\"1\" class=\"dataframe\">\n",
       "  <thead>\n",
       "    <tr style=\"text-align: right;\">\n",
       "      <th></th>\n",
       "      <th>business</th>\n",
       "      <th>year_founded</th>\n",
       "      <th>category</th>\n",
       "      <th>country</th>\n",
       "      <th>continent</th>\n",
       "    </tr>\n",
       "  </thead>\n",
       "  <tbody>\n",
       "    <tr>\n",
       "      <th>44</th>\n",
       "      <td>Staffelter Hof Winery</td>\n",
       "      <td>862</td>\n",
       "      <td>Distillers, Vintners, &amp; Breweries</td>\n",
       "      <td>Germany</td>\n",
       "      <td>Europe</td>\n",
       "    </tr>\n",
       "    <tr>\n",
       "      <th>126</th>\n",
       "      <td>The Royal Mint</td>\n",
       "      <td>886</td>\n",
       "      <td>Manufacturing &amp; Production</td>\n",
       "      <td>United Kingdom</td>\n",
       "      <td>Europe</td>\n",
       "    </tr>\n",
       "    <tr>\n",
       "      <th>127</th>\n",
       "      <td>Monnaie de Paris</td>\n",
       "      <td>864</td>\n",
       "      <td>Manufacturing &amp; Production</td>\n",
       "      <td>France</td>\n",
       "      <td>Europe</td>\n",
       "    </tr>\n",
       "    <tr>\n",
       "      <th>142</th>\n",
       "      <td>St. Peter Stifts Kulinarium</td>\n",
       "      <td>803</td>\n",
       "      <td>Cafés, Restaurants &amp; Bars</td>\n",
       "      <td>Austria</td>\n",
       "      <td>Europe</td>\n",
       "    </tr>\n",
       "    <tr>\n",
       "      <th>143</th>\n",
       "      <td>Sean's Bar</td>\n",
       "      <td>900</td>\n",
       "      <td>Cafés, Restaurants &amp; Bars</td>\n",
       "      <td>Ireland</td>\n",
       "      <td>Europe</td>\n",
       "    </tr>\n",
       "    <tr>\n",
       "      <th>148</th>\n",
       "      <td>Kongō Gumi</td>\n",
       "      <td>578</td>\n",
       "      <td>Construction</td>\n",
       "      <td>Japan</td>\n",
       "      <td>Asia</td>\n",
       "    </tr>\n",
       "  </tbody>\n",
       "</table>\n",
       "</div>"
      ],
      "text/plain": [
       "                        business  year_founded  \\\n",
       "44         Staffelter Hof Winery           862   \n",
       "126               The Royal Mint           886   \n",
       "127            Monnaie de Paris            864   \n",
       "142  St. Peter Stifts Kulinarium           803   \n",
       "143                   Sean's Bar           900   \n",
       "148                   Kongō Gumi           578   \n",
       "\n",
       "                              category         country continent  \n",
       "44   Distillers, Vintners, & Breweries         Germany    Europe  \n",
       "126         Manufacturing & Production  United Kingdom    Europe  \n",
       "127         Manufacturing & Production          France    Europe  \n",
       "142          Cafés, Restaurants & Bars         Austria    Europe  \n",
       "143          Cafés, Restaurants & Bars         Ireland    Europe  \n",
       "148                       Construction           Japan      Asia  "
      ]
     },
     "execution_count": 62,
     "metadata": {},
     "output_type": "execute_result"
    }
   ],
   "source": [
    "# Companies founded before year 1000 CE\n",
    "old_df.loc[old_df['year_founded'] < 1000]"
   ]
  },
  {
   "cell_type": "markdown",
   "id": "4876a331",
   "metadata": {},
   "source": [
    "# Visuals"
   ]
  },
  {
   "cell_type": "code",
   "execution_count": 38,
   "id": "6845959f",
   "metadata": {},
   "outputs": [
    {
     "data": {
      "text/plain": [
       "Text(0.5, 0, 'Year')"
      ]
     },
     "execution_count": 38,
     "metadata": {},
     "output_type": "execute_result"
    },
    {
     "data": {
      "image/png": "[encoded data removed]",
      "text/plain": [
       "<Figure size 432x288 with 1 Axes>"
      ]
     },
     "metadata": {
      "needs_background": "light"
     },
     "output_type": "display_data"
    }
   ],
   "source": [
    "# Count by year\n",
    "sns.histplot(data= old_df, bins= 10)\n",
    "plt.xlabel('Year')"
   ]
  },
  {
   "cell_type": "code",
   "execution_count": 40,
   "id": "7d77818b",
   "metadata": {},
   "outputs": [
    {
     "data": {
      "text/plain": [
       "<AxesSubplot:xlabel='continent', ylabel='Count'>"
      ]
     },
     "execution_count": 40,
     "metadata": {},
     "output_type": "execute_result"
    },
    {
     "data": {
      "image/png": "[encoded data removed]",
      "text/plain": [
       "<Figure size 432x288 with 1 Axes>"
      ]
     },
     "metadata": {
      "needs_background": "light"
     },
     "output_type": "display_data"
    }
   ],
   "source": [
    "# Count by continent\n",
    "sns.histplot(data= old_df, x='continent')"
   ]
  },
  {
   "cell_type": "code",
   "execution_count": 43,
   "id": "9d1c0f52",
   "metadata": {},
   "outputs": [
    {
     "data": {
      "text/plain": [
       "<AxesSubplot:xlabel='year_founded', ylabel='continent'>"
      ]
     },
     "execution_count": 43,
     "metadata": {},
     "output_type": "execute_result"
    },
    {
     "data": {
      "image/png": "[encoded data removed]",
      "text/plain": [
       "<Figure size 432x288 with 1 Axes>"
      ]
     },
     "metadata": {
      "needs_background": "light"
     },
     "output_type": "display_data"
    }
   ],
   "source": [
    "# Year_founded continent breakdown\n",
    "sns.scatterplot(data= old_df, x= 'year_founded', y= 'continent')"
   ]
  },
  {
   "cell_type": "code",
   "execution_count": null,
   "id": "02293f0d",
   "metadata": {},
   "outputs": [],
   "source": []
  }
 ],
 "metadata": {
  "kernelspec": {
   "display_name": "Python 3 (ipykernel)",
   "language": "python",
   "name": "python3"
  },
  "language_info": {
   "codemirror_mode": {
    "name": "ipython",
    "version": 3
   },
   "file_extension": ".py",
   "mimetype": "text/x-python",
   "name": "python",
   "nbconvert_exporter": "python",
   "pygments_lexer": "ipython3",
   "version": "3.8.12"
  }
 },
 "nbformat": 4,
 "nbformat_minor": 5
}
